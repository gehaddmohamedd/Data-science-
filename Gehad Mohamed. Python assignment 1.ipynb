{
 "cells": [
  {
   "cell_type": "code",
   "execution_count": 1,
   "id": "33828008-df0c-4dad-9667-1b7ea137730f",
   "metadata": {},
   "outputs": [
    {
     "name": "stdout",
     "output_type": "stream",
     "text": [
      "[2, 5, 0, 3, 1, 4]\n",
      "[0, 1, 2, 3, 4, 5]\n"
     ]
    }
   ],
   "source": [
    "def selection_sort(arr):\n",
    "    for i in range(len(arr)):\n",
    "        min_index = i\n",
    "        for j in range(i+1, len(arr)):\n",
    "            if arr[j] < arr[min_index]:\n",
    "                min_index = j\n",
    "        arr[i], arr[min_index] = arr[min_index], arr[i]\n",
    "    return arr\n",
    "List1=[3,1,4]\n",
    "List2=[2,5,0]\n",
    "List2.extend(List1)\n",
    "print(List2)\n",
    "arr=List2\n",
    "sorted_arr = selection_sort(arr)\n",
    "print(sorted_arr)\n",
    "# List2.sort()\n",
    "# print(List2)"
   ]
  },
  {
   "cell_type": "code",
   "execution_count": 3,
   "id": "b8be1576-fac1-4335-b66c-a8a4f2fb2d6c",
   "metadata": {},
   "outputs": [
    {
     "name": "stdout",
     "output_type": "stream",
     "text": [
      "aaabbbccc\n"
     ]
    }
   ],
   "source": [
    "s=\"abc\"\n",
    "n=3\n",
    "print(s[0]*n+s[1]*n+s[2]*n)\n"
   ]
  },
  {
   "cell_type": "code",
   "execution_count": null,
   "id": "3d2280b0-e07f-441a-bade-64b3ad1d404f",
   "metadata": {},
   "outputs": [],
   "source": []
  }
 ],
 "metadata": {
  "kernelspec": {
   "display_name": "Python 3 (ipykernel)",
   "language": "python",
   "name": "python3"
  },
  "language_info": {
   "codemirror_mode": {
    "name": "ipython",
    "version": 3
   },
   "file_extension": ".py",
   "mimetype": "text/x-python",
   "name": "python",
   "nbconvert_exporter": "python",
   "pygments_lexer": "ipython3",
   "version": "3.12.4"
  }
 },
 "nbformat": 4,
 "nbformat_minor": 5
}
